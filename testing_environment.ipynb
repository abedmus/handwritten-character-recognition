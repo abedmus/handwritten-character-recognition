{
  "metadata": {
    "kernelspec": {
      "name": "python",
      "display_name": "Python (Pyodide)",
      "language": "python"
    },
    "language_info": {
      "codemirror_mode": {
        "name": "python",
        "version": 3
      },
      "file_extension": ".py",
      "mimetype": "text/x-python",
      "name": "python",
      "nbconvert_exporter": "python",
      "pygments_lexer": "ipython3",
      "version": "3.8"
    },
    "colab": {
      "provenance": []
    }
  },
  "nbformat_minor": 0,
  "nbformat": 4,
  "cells": [
    {
      "cell_type": "code",
      "source": [
        "#import the libraries needed\n",
        "import keras\n",
        "import numpy as np\n",
        "import matplotlib.pyplot as plt\n",
        "from PIL import Image"
      ],
      "metadata": {
        "id": "PMvoztl1L8UR",
        "trusted": true
      },
      "outputs": [],
      "execution_count": 20
    },
    {
      "cell_type": "code",
      "source": [
        "#load the model\n",
        "model = keras.models.load_model('mnist.keras')"
      ],
      "metadata": {
        "id": "tfUD6E88L8UV",
        "trusted": true
      },
      "outputs": [],
      "execution_count": 21
    },
    {
      "cell_type": "code",
      "source": [
        "#process the image\n",
        "img = Image.open('image.png')\n",
        "img = img.resize((28,28))\n",
        "img = img.convert('L')\n",
        "img = np.array(img)\n",
        "img = img.reshape(1,28,28,1)\n",
        "img = img / 255.0"
      ],
      "metadata": {
        "id": "FInKJRwXL8UW",
        "trusted": true
      },
      "outputs": [],
      "execution_count": 22
    },
    {
      "cell_type": "code",
      "source": [
        "#predict the digit in the image\n",
        "y_prob = model.predict([img])[0]\n",
        "y_pred = np.argmax(y_prob)\n",
        "confidence = np.max(y_prob) * 100\n",
        "plt.imshow(img.reshape(28, 28), cmap='gray')\n",
        "plt.title(f'({y_pred}, {confidence:.2f}%)')\n",
        "plt.show()"
      ],
      "metadata": {
        "colab": {
          "base_uri": "https://localhost:8080/",
          "height": 469
        },
        "id": "XV3CRHmN-td6",
        "outputId": "8e5bfbe1-c3c6-4544-8ca7-035cef3b4ac0"
      },
      "execution_count": 41,
      "outputs": [
        {
          "output_type": "stream",
          "name": "stdout",
          "text": [
            "1/1 [==============================] - 0s 36ms/step\n"
          ]
        },
        {
          "output_type": "display_data",
          "data": {
            "text/plain": [
              "<Figure size 640x480 with 1 Axes>"
            ],
            "image/png": "[encoded data removed]"
          },
          "metadata": {}
        }
      ]
    }
  ]
}